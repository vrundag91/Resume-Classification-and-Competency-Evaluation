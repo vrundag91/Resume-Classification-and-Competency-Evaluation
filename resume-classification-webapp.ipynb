{
 "cells": [
  {
   "cell_type": "markdown",
   "metadata": {},
   "source": [
    "# Step 1: Extract Text from a PDF Resume"
   ]
  },
  {
   "cell_type": "code",
   "execution_count": 1,
   "metadata": {},
   "outputs": [
    {
     "name": "stdout",
     "output_type": "stream",
     "text": [
      "Requirement already satisfied: pymupdf in c:\\users\\vrund\\appdata\\local\\programs\\python\\python313\\lib\\site-packages (1.25.3)\n",
      "Note: you may need to restart the kernel to use updated packages.\n"
     ]
    },
    {
     "name": "stderr",
     "output_type": "stream",
     "text": [
      "\n",
      "[notice] A new release of pip is available: 24.3.1 -> 25.0.1\n",
      "[notice] To update, run: python.exe -m pip install --upgrade pip\n"
     ]
    }
   ],
   "source": [
    "pip install pymupdf"
   ]
  },
  {
   "cell_type": "code",
   "execution_count": 2,
   "metadata": {},
   "outputs": [
    {
     "name": "stdout",
     "output_type": "stream",
     "text": [
      "Work Experience\n",
      "Sr. Database Architect\n",
      "Cognizant Technology Solutions - Pune, Maharashtra\n",
      "May 2008 to Present\n",
      "Role:\n",
      "• Ensuring the successful delivery of big data solutions and defining solution architecture, data strategy,\n",
      "principles, vision, and standards; providing advisory services around the data frameworks, governance,\n",
      "and quality\n",
      "• Analyzing & reviewing business, functional and high-level technical requirements; designing detailed\n",
      "technical components for complex applications utilizing high-level architecture, design patterns and\n",
      "reusable code\n",
      "• Simulating, designing, developing & deploying computationally complex and practical data; building\n",
      "and delivering comprehensive data strategy roadmaps; ensuring final deliverables are of the highest\n",
      "quality\n",
      "• Supporting the development, sharing, and enhancement of dashboard and reporting solutions\n",
      "• Identifying ways to integrate data from the client's multiple source systems to provide consolidated\n",
      "KPI reports to client\n",
      "• Performing anal\n"
     ]
    }
   ],
   "source": [
    "import fitz  # PyMuPDF\n",
    "\n",
    "def extract_text_from_pdf(file_path):\n",
    "    doc = fitz.open(file_path)\n",
    "    text = \"\"\n",
    "    for page in doc:\n",
    "        text += page.get_text()\n",
    "    return text\n",
    "\n",
    "# Test it with a sample resume\n",
    "pdf_path = \"database_0.pdf\"  # Change this to your PDF path\n",
    "resume_text = extract_text_from_pdf(pdf_path)\n",
    "print(resume_text[:1000])  # Print the first 1000 characters to check if it's working\n"
   ]
  },
  {
   "cell_type": "markdown",
   "metadata": {},
   "source": [
    "# Step 2: Analyze Resume Based on Competencies"
   ]
  },
  {
   "cell_type": "code",
   "execution_count": 3,
   "metadata": {},
   "outputs": [],
   "source": [
    "competency_entities = {\n",
    "    \"Leading and Deciding\": [\"deciding\", \"initiating actions\", \"supervising\"],\n",
    "    \"Supporting\": [\"work with people\", \"persuading\", \"influencing\"],\n",
    "    \"Cooperation\": [\"applying expertise\", \"analysing\"],\n",
    "    \"Creating\": [\"creative\", \"innovative\"],\n",
    "    \"Conceptualizing\": [\"learning\", \"researching\"],\n",
    "    \"Organizing and Executing\": [\"planning\", \"organizing\"],\n",
    "    \"Adapting\": [\"adapting to change\"],\n",
    "    \"Coping\": [\"entrepreneurial thinking\", \"commercial thinking\"],\n",
    "    \"Displaying and Demonstrating Job-related Skills\": [\"technical skills\", \"soft skills\", \"applying expertise\"],\n",
    "    \"Mastering and Displaying Language-specific Skills\": [\"soft skills\", \"adapting to change\"],\n",
    "    \"Demonstrating Inter/Multi/Transdisciplinary Skills\": [\"technical skills\", \"adapting to change\"],\n",
    "}"
   ]
  },
  {
   "cell_type": "code",
   "execution_count": 4,
   "metadata": {},
   "outputs": [
    {
     "name": "stdout",
     "output_type": "stream",
     "text": [
      "{'Adapting': 0,\n",
      " 'Conceptualizing': 0,\n",
      " 'Cooperation': 0,\n",
      " 'Coping': 0,\n",
      " 'Creating': 0,\n",
      " 'Demonstrating Inter/Multi/Transdisciplinary Skills': 0,\n",
      " 'Displaying and Demonstrating Job-related Skills': 0,\n",
      " 'Leading and Deciding': 0,\n",
      " 'Mastering and Displaying Language-specific Skills': 0,\n",
      " 'Organizing and Executing': 0,\n",
      " 'Supporting': 0}\n"
     ]
    }
   ],
   "source": [
    "import re\n",
    "from collections import defaultdict\n",
    "\n",
    "def analyze_resume(text):\n",
    "    text = text.lower()  # Convert text to lowercase for easier matching\n",
    "\n",
    "    competency_scores = defaultdict(float)\n",
    "\n",
    "    for competency, keywords in competency_entities.items():\n",
    "        # Count occurrences of each keyword using regex\n",
    "        matches = sum(len(re.findall(rf\"\\b{re.escape(keyword)}\\b\", text)) for keyword in keywords)\n",
    "        competency_scores[competency] = matches\n",
    "\n",
    "    # Normalize Scores (0 to 1 based on max value)\n",
    "    max_score = max(competency_scores.values()) if competency_scores else 1\n",
    "\n",
    "    if max_score > 0:\n",
    "        for competency in competency_scores:\n",
    "            competency_scores[competency] /= max_score\n",
    "\n",
    "    return dict(competency_scores)\n",
    "\n",
    "# Testing it with resume text from Step 1\n",
    "competency_results = analyze_resume(resume_text)\n",
    "\n",
    "# Display the results\n",
    "import pprint\n",
    "pprint.pprint(competency_results)\n"
   ]
  },
  {
   "cell_type": "markdown",
   "metadata": {},
   "source": [
    "# Step 3: Visualize Competency Scores as a Pie Chart"
   ]
  },
  {
   "cell_type": "code",
   "execution_count": 5,
   "metadata": {},
   "outputs": [
    {
     "data": {
      "image/png": "[encoded data removed]",
      "text/plain": [
       "<Figure size 400x400 with 1 Axes>"
      ]
     },
     "metadata": {},
     "output_type": "display_data"
    }
   ],
   "source": [
    "import matplotlib.pyplot as plt\n",
    "\n",
    "def plot_pie_chart(competency_scores):\n",
    "    # Filter out competencies with zero scores\n",
    "    filtered_scores = {k: v for k, v in competency_scores.items() if v > 0}\n",
    "    labels = list(filtered_scores.keys())\n",
    "    sizes = list(filtered_scores.values())\n",
    "\n",
    "    # Plotting the Pie Chart\n",
    "    plt.figure(figsize=(4, 4))\n",
    "    plt.pie(sizes, labels=labels, autopct='%1.1f%%', startangle=140)\n",
    "    plt.title(\"Resume Competency Analysis\")\n",
    "    plt.show()\n",
    "\n",
    "# Call this function with the output from Step 2\n",
    "plot_pie_chart(competency_results)\n"
   ]
  },
  {
   "cell_type": "markdown",
   "metadata": {},
   "source": [
    "# Step 4: Resume Q&A Using LLaMA 2"
   ]
  },
  {
   "cell_type": "code",
   "execution_count": 16,
   "metadata": {},
   "outputs": [
    {
     "name": "stdout",
     "output_type": "stream",
     "text": [
      "Collecting gpt4all\n",
      "  Downloading gpt4all-2.8.2-py3-none-win_amd64.whl.metadata (4.8 kB)\n",
      "Collecting requests (from gpt4all)\n",
      "  Downloading requests-2.32.3-py3-none-any.whl.metadata (4.6 kB)\n",
      "Collecting tqdm (from gpt4all)\n",
      "  Downloading tqdm-4.67.1-py3-none-any.whl.metadata (57 kB)\n",
      "Collecting charset-normalizer<4,>=2 (from requests->gpt4all)\n",
      "  Downloading charset_normalizer-3.4.1-cp313-cp313-win_amd64.whl.metadata (36 kB)\n",
      "Requirement already satisfied: idna<4,>=2.5 in c:\\users\\vrund\\appdata\\local\\programs\\python\\python313\\lib\\site-packages (from requests->gpt4all) (3.10)\n",
      "Collecting urllib3<3,>=1.21.1 (from requests->gpt4all)\n",
      "  Downloading urllib3-2.3.0-py3-none-any.whl.metadata (6.5 kB)\n",
      "Collecting certifi>=2017.4.17 (from requests->gpt4all)\n",
      "  Downloading certifi-2025.1.31-py3-none-any.whl.metadata (2.5 kB)\n",
      "Requirement already satisfied: colorama in c:\\users\\vrund\\appdata\\local\\programs\\python\\python313\\lib\\site-packages (from tqdm->gpt4all) (0.4.6)\n",
      "Downloading gpt4all-2.8.2-py3-none-win_amd64.whl (119.6 MB)\n",
      "   ---------------------------------------- 0.0/119.6 MB ? eta -:--:--\n",
      "    --------------------------------------- 2.9/119.6 MB 15.7 MB/s eta 0:00:08\n",
      "   -- ------------------------------------- 8.4/119.6 MB 21.1 MB/s eta 0:00:06\n",
      "   ---- ----------------------------------- 14.4/119.6 MB 23.9 MB/s eta 0:00:05\n",
      "   ------ --------------------------------- 18.4/119.6 MB 22.7 MB/s eta 0:00:05\n",
      "   ------- -------------------------------- 23.3/119.6 MB 22.8 MB/s eta 0:00:05\n",
      "   -------- ------------------------------- 26.0/119.6 MB 21.1 MB/s eta 0:00:05\n",
      "   --------- ------------------------------ 28.6/119.6 MB 20.0 MB/s eta 0:00:05\n",
      "   ---------- ----------------------------- 32.0/119.6 MB 19.4 MB/s eta 0:00:05\n",
      "   ----------- ---------------------------- 34.9/119.6 MB 18.7 MB/s eta 0:00:05\n",
      "   ------------ --------------------------- 37.7/119.6 MB 18.2 MB/s eta 0:00:05\n",
      "   ------------- -------------------------- 40.6/119.6 MB 17.8 MB/s eta 0:00:05\n",
      "   -------------- ------------------------- 43.5/119.6 MB 17.4 MB/s eta 0:00:05\n",
      "   --------------- ------------------------ 47.2/119.6 MB 17.4 MB/s eta 0:00:05\n",
      "   ---------------- ----------------------- 50.1/119.6 MB 17.1 MB/s eta 0:00:05\n",
      "   ----------------- ---------------------- 53.2/119.6 MB 16.9 MB/s eta 0:00:04\n",
      "   ------------------ --------------------- 56.6/119.6 MB 16.9 MB/s eta 0:00:04\n",
      "   ------------------- -------------------- 59.8/119.6 MB 16.7 MB/s eta 0:00:04\n",
      "   --------------------- ------------------ 63.2/119.6 MB 16.7 MB/s eta 0:00:04\n",
      "   --------------------- ------------------ 65.3/119.6 MB 16.7 MB/s eta 0:00:04\n",
      "   ----------------------- ---------------- 69.5/119.6 MB 16.5 MB/s eta 0:00:04\n",
      "   ------------------------ --------------- 73.4/119.6 MB 16.6 MB/s eta 0:00:03\n",
      "   ------------------------- -------------- 76.0/119.6 MB 16.4 MB/s eta 0:00:03\n",
      "   -------------------------- ------------- 80.5/119.6 MB 16.6 MB/s eta 0:00:03\n",
      "   ---------------------------- ----------- 84.1/119.6 MB 16.7 MB/s eta 0:00:03\n",
      "   ----------------------------- ---------- 87.6/119.6 MB 16.8 MB/s eta 0:00:02\n",
      "   ------------------------------ --------- 92.3/119.6 MB 16.8 MB/s eta 0:00:02\n",
      "   ------------------------------- -------- 95.2/119.6 MB 16.7 MB/s eta 0:00:02\n",
      "   -------------------------------- ------- 98.6/119.6 MB 16.7 MB/s eta 0:00:02\n",
      "   -------------------------------- ------ 100.9/119.6 MB 16.7 MB/s eta 0:00:02\n",
      "   ---------------------------------- ---- 106.7/119.6 MB 16.8 MB/s eta 0:00:01\n",
      "   ----------------------------------- --- 109.3/119.6 MB 16.9 MB/s eta 0:00:01\n",
      "   ------------------------------------ -- 113.2/119.6 MB 16.9 MB/s eta 0:00:01\n",
      "   --------------------------------------  117.4/119.6 MB 16.8 MB/s eta 0:00:01\n",
      "   --------------------------------------  119.5/119.6 MB 16.9 MB/s eta 0:00:01\n",
      "   --------------------------------------- 119.6/119.6 MB 16.5 MB/s eta 0:00:00\n",
      "Downloading requests-2.32.3-py3-none-any.whl (64 kB)\n",
      "Downloading tqdm-4.67.1-py3-none-any.whl (78 kB)\n",
      "Downloading certifi-2025.1.31-py3-none-any.whl (166 kB)\n",
      "Downloading charset_normalizer-3.4.1-cp313-cp313-win_amd64.whl (102 kB)\n",
      "Downloading urllib3-2.3.0-py3-none-any.whl (128 kB)\n",
      "Installing collected packages: urllib3, tqdm, charset-normalizer, certifi, requests, gpt4all\n",
      "Successfully installed certifi-2025.1.31 charset-normalizer-3.4.1 gpt4all-2.8.2 requests-2.32.3 tqdm-4.67.1 urllib3-2.3.0\n",
      "Note: you may need to restart the kernel to use updated packages.\n"
     ]
    },
    {
     "name": "stderr",
     "output_type": "stream",
     "text": [
      "  WARNING: The script tqdm.exe is installed in 'c:\\Users\\vrund\\AppData\\Local\\Programs\\Python\\Python313\\Scripts' which is not on PATH.\n",
      "  Consider adding this directory to PATH or, if you prefer to suppress this warning, use --no-warn-script-location.\n",
      "  WARNING: The script normalizer.exe is installed in 'c:\\Users\\vrund\\AppData\\Local\\Programs\\Python\\Python313\\Scripts' which is not on PATH.\n",
      "  Consider adding this directory to PATH or, if you prefer to suppress this warning, use --no-warn-script-location.\n"
     ]
    }
   ],
   "source": [
    "pip install gpt4all"
   ]
  },
  {
   "cell_type": "code",
   "execution_count": 17,
   "metadata": {},
   "outputs": [
    {
     "name": "stderr",
     "output_type": "stream",
     "text": [
      "Downloading: 100%|██████████| 4.11G/4.11G [11:54<00:00, 5.75MiB/s] \n",
      "Verifying: 100%|██████████| 4.11G/4.11G [00:07<00:00, 559MiB/s]\n"
     ]
    }
   ],
   "source": [
    "from gpt4all import GPT4All\n",
    "\n",
    "model = GPT4All(\"mistral-7b-instruct-v0.1.Q4_0.gguf\")  # Auto-downloads the model"
   ]
  },
  {
   "cell_type": "code",
   "execution_count": 21,
   "metadata": {},
   "outputs": [],
   "source": [
    "def ask_cv_question(resume_text, competency_scores, question):\n",
    "    # Convert competency scores into a readable string\n",
    "    competency_summary = \"\\n\".join([f\"{k}: {v:.2f}\" for k, v in competency_scores.items()])\n",
    "\n",
    "    # Craft the prompt with both resume content and competency analysis\n",
    "    prompt = f\"\"\"\n",
    "    You are a resume evaluation assistant. You will answer questions strictly based on the provided resume and competency analysis below.\n",
    "\n",
    "    Resume Text:\n",
    "    {resume_text}\n",
    "\n",
    "    Competency Analysis (Normalized Scores from 0 to 1):\n",
    "    {competency_summary}\n",
    "\n",
    "    Now, answer the following question based only on the above data:\n",
    "    {question}\n",
    "\n",
    "    Answer:\n",
    "    \"\"\"\n",
    "\n",
    "    # Generate response from GPT4All\n",
    "    output = model.generate(prompt, max_tokens=150)\n",
    "    return output"
   ]
  },
  {
   "cell_type": "code",
   "execution_count": 24,
   "metadata": {},
   "outputs": [
    {
     "name": "stdout",
     "output_type": "stream",
     "text": [
      "\n",
      "Generated Answer:\n",
      "\n",
      "1. Cognizant Technology Solutions - Pune, Maharashtra\n",
      "2. Finch Software India - Bengaluru, Karnataka\n",
      "3. Sify Technology Limited - Chennai, Tamil Nadu\n"
     ]
    }
   ],
   "source": [
    "question = input(\"Enter your question about the resume: \")\n",
    "answer = ask_cv_question(resume_text, competency_results, question)\n",
    "\n",
    "print(\"\\nGenerated Answer:\\n\")\n",
    "print(answer)"
   ]
  },
  {
   "cell_type": "code",
   "execution_count": null,
   "metadata": {},
   "outputs": [],
   "source": []
  }
 ],
 "metadata": {
  "kernelspec": {
   "display_name": "Python 3",
   "language": "python",
   "name": "python3"
  },
  "language_info": {
   "codemirror_mode": {
    "name": "ipython",
    "version": 3
   },
   "file_extension": ".py",
   "mimetype": "text/x-python",
   "name": "python",
   "nbconvert_exporter": "python",
   "pygments_lexer": "ipython3",
   "version": "3.13.2"
  }
 },
 "nbformat": 4,
 "nbformat_minor": 2
}
